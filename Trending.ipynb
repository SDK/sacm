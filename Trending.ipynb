{
 "metadata": {
  "name": "",
  "signature": "sha256:a70674807e57e574c15fc04ece685c46b555362bcf38277c8699bc495d1aec10"
 },
 "nbformat": 3,
 "nbformat_minor": 0,
 "worksheets": [
  {
   "cells": [
    {
     "cell_type": "code",
     "collapsed": false,
     "input": [
      "from MetaData import *\n",
      "import matplotlib.pyplot as plt\n",
      "import numpy as np\n",
      "import plotly.plotly as py\n",
      "import plotly.tools as tls\n",
      "from plotly.graph_objs import *\n",
      "py.sign_in('sdk.cl','ddgrpr0imy')\n"
     ],
     "language": "python",
     "metadata": {},
     "outputs": [],
     "prompt_number": 16
    },
    {
     "cell_type": "code",
     "collapsed": false,
     "input": [
      "sql = \"select * from metadata;\"\n",
      "pgcursor.execute(sql)\n",
      "df = pd.DataFrame(pgcursor.fetchall())\n"
     ],
     "language": "python",
     "metadata": {},
     "outputs": [],
     "prompt_number": 17
    },
    {
     "cell_type": "code",
     "collapsed": false,
     "input": [
      "data = df[[1,2,3,4,5,6,9]]\n",
      "\n",
      "data.columns = ['check','syscal','validuid','csv2555','fixplanets','nullstate','date']\n",
      "data.set_index('date',inplace=True)\n",
      "data.index = data.index.to_datetime()\n",
      "data.sort_index(inplace=True)\n",
      "\n",
      "\n"
     ],
     "language": "python",
     "metadata": {},
     "outputs": [],
     "prompt_number": 18
    },
    {
     "cell_type": "code",
     "collapsed": false,
     "input": [
      "def df_to_iplot(df):\n",
      "    \n",
      "    '''\n",
      "    Coverting a Pandas Data Frame to Plotly interface\n",
      "    '''\n",
      "    \n",
      "    if df.index.__class__.__name__==\"DatetimeIndex\":\n",
      "        #Convert the index to MySQL Datetime like strings\n",
      "        x=df.index.format()\n",
      "        #Alternatively, directly use x, since DateTime index is np.datetime64\n",
      "        #see http://nbviewer.ipython.org/gist/cparmer/7721116  \n",
      "        #x=df.index.values.astype('datetime64[s]')\n",
      "    else:\n",
      "        x = df.index.values        \n",
      "        \n",
      "    lines={}\n",
      "    for key in df:\n",
      "        lines[key]={}\n",
      "        lines[key][\"x\"]=x\n",
      "        lines[key][\"y\"]=df[key].values\n",
      "        lines[key][\"name\"]=key\n",
      "\n",
      "    #Appending all lines\n",
      "    lines_plotly=[lines[key] for key in df]\n",
      "    return lines_plotly"
     ],
     "language": "python",
     "metadata": {},
     "outputs": [],
     "prompt_number": 30
    },
    {
     "cell_type": "code",
     "collapsed": false,
     "input": [
      "data['check_s'] = data.apply(lambda x: 1 if x['check'] == False else 0, axis = 1)\n",
      "data['syscal_s'] = data.apply(lambda x: 1 if x['syscal'] == False else 0, axis = 1)\n",
      "data['validuid_s'] = data.apply(lambda x: 1 if x['validuid'] == False else 0, axis = 1)\n",
      "data['csv2555_s'] = data.apply(lambda x: 1 if x['csv2555'] == False else 0, axis = 1)\n",
      "\n",
      "df2 = data[['syscal_s','check_s','validuid_s','csv2555_s']].cumsum()"
     ],
     "language": "python",
     "metadata": {},
     "outputs": [],
     "prompt_number": 28
    },
    {
     "cell_type": "code",
     "collapsed": false,
     "input": [
      "py.iplot(df_to_iplot(df2))"
     ],
     "language": "python",
     "metadata": {},
     "outputs": [
      {
       "html": [
        "<iframe id=\"igraph\" scrolling=\"no\" style=\"border:none;\"seamless=\"seamless\" src=\"https://plot.ly/~sdk.cl/11.embed\" height=\"525\" width=\"100%\"></iframe>"
       ],
       "metadata": {},
       "output_type": "pyout",
       "prompt_number": 31,
       "text": [
        "<plotly.tools.PlotlyDisplay at 0x7f5281cecd90>"
       ]
      }
     ],
     "prompt_number": 31
    },
    {
     "cell_type": "code",
     "collapsed": false,
     "input": [
      "fig1 = plt.figure()\n",
      "# Make a legend for specific lines.\n",
      "import matplotlib.pyplot as plt\n",
      "import numpy as np\n",
      "\n",
      "\n",
      "t1 = np.arange(0.0, 2.0, 0.1)\n",
      "t2 = np.arange(0.0, 2.0, 0.01)\n",
      "\n",
      "# note that plot returns a list of lines.  The \"l1, = plot\" usage\n",
      "# extracts the first element of the list into l1 using tuple\n",
      "# unpacking.  So l1 is a Line2D instance, not a sequence of lines\n",
      "l1, = plt.plot(t2, np.exp(-t2))\n",
      "l2, l3 = plt.plot(t2, np.sin(2 * np.pi * t2), '--go', t1, np.log(1 + t1), '.')\n",
      "l4, = plt.plot(t2, np.exp(-t2) * np.sin(2 * np.pi * t2), 'rs-.')\n",
      "\n",
      "plt.xlabel('time')\n",
      "plt.ylabel('volts')\n",
      "plt.title('Damped oscillation')\n",
      "\n",
      "plt.show()"
     ],
     "language": "python",
     "metadata": {},
     "outputs": [
      {
       "metadata": {},
       "output_type": "display_data",
       "png": "[encoded data removed]",
       "text": [
        "<matplotlib.figure.Figure at 0x7f5257faeed0>"
       ]
      }
     ],
     "prompt_number": 6
    },
    {
     "cell_type": "code",
     "collapsed": false,
     "input": [
      "py.iplot_mpl(fig1)\n"
     ],
     "language": "python",
     "metadata": {},
     "outputs": [
      {
       "html": [
        "<iframe id=\"igraph\" scrolling=\"no\" style=\"border:none;\"seamless=\"seamless\" src=\"https://plot.ly/~sdk.cl/5.embed\" height=\"525\" width=\"100%\"></iframe>"
       ],
       "metadata": {},
       "output_type": "pyout",
       "prompt_number": 7,
       "text": [
        "<plotly.tools.PlotlyDisplay at 0x7f5257fb54d0>"
       ]
      }
     ],
     "prompt_number": 7
    },
    {
     "cell_type": "code",
     "collapsed": false,
     "input": [],
     "language": "python",
     "metadata": {},
     "outputs": []
    }
   ],
   "metadata": {}
  }
 ]
}