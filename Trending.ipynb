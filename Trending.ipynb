{
 "metadata": {
  "name": "",
  "signature": "sha256:0530ed1b5e8801f3e544176d36e00fa779c2c98e9db7be9ff75b6dc6104fca4b"
 },
 "nbformat": 3,
 "nbformat_minor": 0,
 "worksheets": [
  {
   "cells": [
    {
     "cell_type": "code",
     "collapsed": false,
     "input": [
      "from MetaData import *\n",
      "import matplotlib.pyplot as plt\n",
      "import numpy as np\n",
      "import plotly.plotly as py\n",
      "import plotly.tools as tls\n",
      "from plotly.graph_objs import *\n",
      "py.sign_in('sdk.cl','ddgrpr0imy')\n"
     ],
     "language": "python",
     "metadata": {},
     "outputs": [],
     "prompt_number": 1
    },
    {
     "cell_type": "code",
     "collapsed": false,
     "input": [
      "sql = \"select * from metadata;\"\n",
      "pgcursor.execute(sql)\n",
      "df = pd.DataFrame(pgcursor.fetchall())\n"
     ],
     "language": "python",
     "metadata": {},
     "outputs": [],
     "prompt_number": 2
    },
    {
     "cell_type": "code",
     "collapsed": false,
     "input": [
      "data = df[[1,2,3,4,5,6,9]]\n",
      "\n",
      "data.columns = ['check','syscal','validuid','csv2555','fixplanets','nullstate','date']\n",
      "data.set_index('date',inplace=True)\n",
      "data.index = data.index.to_datetime()\n",
      "data.sort_index(inplace=True)\n",
      "\n",
      "\n"
     ],
     "language": "python",
     "metadata": {},
     "outputs": [],
     "prompt_number": 3
    },
    {
     "cell_type": "code",
     "collapsed": false,
     "input": [
      "#data['check_s'] = data.apply(lambda x: 1 if x['check'] == False else 0, axis = 1)\n",
      "#data['syscal_s'] = data.apply(lambda x: 1 if x['syscal'] == False else 0, axis = 1)\n",
      "#data['validuid_s'] = data.apply(lambda x: 1 if x['validuid'] == False else 0, axis = 1)\n",
      "data['csv2555_s'] = data.apply(lambda x: 1 if x['csv2555'] == False else 0, axis = 1)\n",
      "#data['fixplanets_s'] = data.apply(lambda x: 1 if x['fixplanets'] == False else 0, axis = 1)\n",
      "#data['nullstate_s'] = data.apply(lambda x: 1 if x['nullstate'] == False else 0, axis = 1)\n",
      "\n",
      "#df2 = data[['syscal_s','validuid_s','csv2555_s','fixplanets_s','nullstate_s']].cumsum()\n",
      "df2 = data[['csv2555_s']].cumsum()\n"
     ],
     "language": "python",
     "metadata": {},
     "outputs": [],
     "prompt_number": 4
    },
    {
     "cell_type": "code",
     "collapsed": false,
     "input": [
      "df2.plot()\n",
      "fig = plt.gcf()\n",
      "py.iplot_mpl(fig)"
     ],
     "language": "python",
     "metadata": {},
     "outputs": [
      {
       "output_type": "stream",
       "stream": "stderr",
       "text": [
        "/home/sagonzal/anaconda/lib/python2.7/site-packages/plotly/matplotlylib/renderer.py:382: UserWarning:\n",
        "\n",
        "Bummer! Plotly can currently only draw Line2D objects from matplotlib that are in 'data' coordinates!\n",
        "\n",
        "/home/sagonzal/anaconda/lib/python2.7/site-packages/plotly/matplotlylib/renderer.py:479: UserWarning:\n",
        "\n",
        "I found a path object that I don't think is part of a bar chart. Ignoring.\n",
        "\n"
       ]
      },
      {
       "html": [
        "<iframe id=\"igraph\" scrolling=\"no\" style=\"border:none;\"seamless=\"seamless\" src=\"https://plot.ly/~sdk.cl/27.embed\" height=\"525\" width=\"100%\"></iframe>"
       ],
       "metadata": {},
       "output_type": "pyout",
       "prompt_number": 5,
       "text": [
        "<plotly.tools.PlotlyDisplay at 0x7fa071101fd0>"
       ]
      }
     ],
     "prompt_number": 5
    },
    {
     "cell_type": "code",
     "collapsed": false,
     "input": [],
     "language": "python",
     "metadata": {},
     "outputs": []
    }
   ],
   "metadata": {}
  }
 ]
}