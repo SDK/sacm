{
 "metadata": {
  "name": "",
  "signature": "sha256:1bf6011c3bdac424c01c3da2f831619ad93d2c8db2536d760c469e7a4568dd46"
 },
 "nbformat": 3,
 "nbformat_minor": 0,
 "worksheets": [
  {
   "cells": [
    {
     "cell_type": "code",
     "collapsed": false,
     "input": [
      "from MetaData import *\n",
      "import matplotlib.pyplot as plt\n",
      "import numpy as np\n",
      "import plotly.plotly as py\n",
      "import plotly.tools as tls\n",
      "from plotly.graph_objs import *\n",
      "py.sign_in('sdk.cl','ddgrpr0imy')\n"
     ],
     "language": "python",
     "metadata": {},
     "outputs": [],
     "prompt_number": 1
    },
    {
     "cell_type": "code",
     "collapsed": false,
     "input": [
      "sql = \"select * from metadata;\"\n",
      "pgcursor.execute(sql)\n",
      "df = pd.DataFrame(pgcursor.fetchall())\n"
     ],
     "language": "python",
     "metadata": {},
     "outputs": [],
     "prompt_number": 2
    },
    {
     "cell_type": "code",
     "collapsed": false,
     "input": [
      "data = df[[1,2,3,4,5,6,9]]\n",
      "\n",
      "data.columns = ['check','syscal','validuid','csv2555','fixplanets','nullstate','date']\n",
      "data.set_index('date',inplace=True)\n",
      "data.index = data.index.to_datetime()\n",
      "data.sort_index(inplace=True)\n",
      "\n",
      "\n"
     ],
     "language": "python",
     "metadata": {},
     "outputs": [],
     "prompt_number": 3
    },
    {
     "cell_type": "code",
     "collapsed": false,
     "input": [
      "#data['check_s'] = data.apply(lambda x: 1 if x['check'] == False else 0, axis = 1)\n",
      "data['syscal_s'] = data.apply(lambda x: 1 if x['syscal'] == False else 0, axis = 1)\n",
      "data['validuid_s'] = data.apply(lambda x: 1 if x['validuid'] == False else 0, axis = 1)\n",
      "data['csv2555_s'] = data.apply(lambda x: 1 if x['csv2555'] == False else 0, axis = 1)\n",
      "data['fixplanets_s'] = data.apply(lambda x: 1 if x['fixplanets'] == False else 0, axis = 1)\n",
      "data['nullstate_s'] = data.apply(lambda x: 1 if x['nullstate'] == False else 0, axis = 1)\n",
      "\n",
      "df2 = data[['syscal_s','validuid_s','csv2555_s','fixplanets_s','nullstate_s']].cumsum()"
     ],
     "language": "python",
     "metadata": {},
     "outputs": [],
     "prompt_number": 6
    },
    {
     "cell_type": "code",
     "collapsed": false,
     "input": [
      "df2.plot()\n",
      "fig = plt.gcf()\n",
      "py.iplot_mpl(fig)"
     ],
     "language": "python",
     "metadata": {},
     "outputs": [
      {
       "html": [
        "<iframe id=\"igraph\" scrolling=\"no\" style=\"border:none;\"seamless=\"seamless\" src=\"https://plot.ly/~sdk.cl/26.embed\" height=\"525\" width=\"100%\"></iframe>"
       ],
       "metadata": {},
       "output_type": "pyout",
       "prompt_number": 7,
       "text": [
        "<plotly.tools.PlotlyDisplay at 0x7ff5ca2c1bd0>"
       ]
      }
     ],
     "prompt_number": 7
    },
    {
     "cell_type": "code",
     "collapsed": false,
     "input": [],
     "language": "python",
     "metadata": {},
     "outputs": []
    }
   ],
   "metadata": {}
  }
 ]
}